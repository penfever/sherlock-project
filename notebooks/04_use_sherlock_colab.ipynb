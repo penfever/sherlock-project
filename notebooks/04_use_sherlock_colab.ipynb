{
  "cells": [
    {
      "cell_type": "markdown",
      "id": "0a2584dd",
      "metadata": {
        "id": "0a2584dd"
      },
      "source": [
        "# Using Sherlock out-of-the-box\n",
        "This notebook shows how to predict a semantic type for a given table column.\n",
        "The steps are basically:\n",
        "- Download files for word embedding and paragraph vector feature extraction (downloads only once) and initialize feature extraction models.\n",
        "- Extract features from table columns.\n",
        "- Initialize Sherlock.\n",
        "- Make a prediction for the feature representation of the column."
      ]
    },
    {
      "cell_type": "code",
      "source": [
        "!git clone https://github.com/penfever/sherlock-project"
      ],
      "metadata": {
        "id": "vEVm-anQwx9i",
        "outputId": "6e0054b6-68b1-47e3-c8a1-0f48a4501d2d",
        "colab": {
          "base_uri": "https://localhost:8080/"
        }
      },
      "id": "vEVm-anQwx9i",
      "execution_count": 1,
      "outputs": [
        {
          "output_type": "stream",
          "name": "stdout",
          "text": [
            "Cloning into 'sherlock-project'...\n",
            "remote: Enumerating objects: 897, done.\u001b[K\n",
            "remote: Counting objects: 100% (177/177), done.\u001b[K\n",
            "remote: Compressing objects: 100% (59/59), done.\u001b[K\n",
            "remote: Total 897 (delta 140), reused 133 (delta 118), pack-reused 720\u001b[K\n",
            "Receiving objects: 100% (897/897), 74.85 MiB | 19.07 MiB/s, done.\n",
            "Resolving deltas: 100% (539/539), done.\n"
          ]
        }
      ]
    },
    {
      "cell_type": "code",
      "source": [
        "import os\n",
        "os.chdir(\"sherlock-project\")"
      ],
      "metadata": {
        "id": "3Fdvt2xpwpPM"
      },
      "id": "3Fdvt2xpwpPM",
      "execution_count": 2,
      "outputs": []
    },
    {
      "cell_type": "code",
      "source": [
        "#!pip install -r requirements38.txt\n",
        "!pip install pyfunctional"
      ],
      "metadata": {
        "colab": {
          "base_uri": "https://localhost:8080/"
        },
        "id": "Ngowmm1ouYVX",
        "outputId": "f8161ee0-f98a-4ae3-e70e-c41700f5fef3"
      },
      "id": "Ngowmm1ouYVX",
      "execution_count": 3,
      "outputs": [
        {
          "output_type": "stream",
          "name": "stdout",
          "text": [
            "Looking in indexes: https://pypi.org/simple, https://us-python.pkg.dev/colab-wheels/public/simple/\n",
            "Collecting pyfunctional\n",
            "  Downloading PyFunctional-1.4.3-py3-none-any.whl (49 kB)\n",
            "\u001b[2K     \u001b[90m━━━━━━━━━━━━━━━━━━━━━━━━━━━━━━━━━━━━━━━━\u001b[0m \u001b[32m49.5/49.5 KB\u001b[0m \u001b[31m1.7 MB/s\u001b[0m eta \u001b[36m0:00:00\u001b[0m\n",
            "\u001b[?25hCollecting dill>=0.2.5\n",
            "  Downloading dill-0.3.6-py3-none-any.whl (110 kB)\n",
            "\u001b[2K     \u001b[90m━━━━━━━━━━━━━━━━━━━━━━━━━━━━━━━━━━━━━━━\u001b[0m \u001b[32m110.5/110.5 KB\u001b[0m \u001b[31m3.4 MB/s\u001b[0m eta \u001b[36m0:00:00\u001b[0m\n",
            "\u001b[?25hRequirement already satisfied: tabulate<=1.0.0 in /usr/local/lib/python3.8/dist-packages (from pyfunctional) (0.8.10)\n",
            "Installing collected packages: dill, pyfunctional\n",
            "Successfully installed dill-0.3.6 pyfunctional-1.4.3\n"
          ]
        }
      ]
    },
    {
      "cell_type": "code",
      "execution_count": 4,
      "id": "86625d3e",
      "metadata": {
        "id": "86625d3e"
      },
      "outputs": [],
      "source": [
        "import numpy as np\n",
        "import pandas as pd\n",
        "import pyarrow as pa\n",
        "\n",
        "from sherlock import helpers\n",
        "from sherlock.deploy.model import SherlockModel\n",
        "from sherlock.features.paragraph_vectors import initialise_pretrained_model, initialise_nltk\n",
        "from sherlock.features.preprocessing import (\n",
        "    extract_features,\n",
        "    convert_string_lists_to_lists,\n",
        "    prepare_feature_extraction,\n",
        "    load_parquet_values,\n",
        ")\n",
        "from sherlock.features.word_embeddings import initialise_word_embeddings"
      ]
    },
    {
      "cell_type": "code",
      "source": [
        "from sherlock.functional import extract_features_to_csv"
      ],
      "metadata": {
        "id": "75dm9MOmxIaJ"
      },
      "id": "75dm9MOmxIaJ",
      "execution_count": 5,
      "outputs": []
    },
    {
      "cell_type": "code",
      "source": [
        "os.environ[\"PYTHONHASHSEED\"] = \"13\""
      ],
      "metadata": {
        "id": "KuTeoSoHyYlF"
      },
      "id": "KuTeoSoHyYlF",
      "execution_count": 6,
      "outputs": []
    },
    {
      "cell_type": "code",
      "source": [
        "from google.colab import drive\n",
        "drive.mount('/content/drive')"
      ],
      "metadata": {
        "colab": {
          "base_uri": "https://localhost:8080/"
        },
        "id": "Y5CK3WPkzecT",
        "outputId": "845d0373-f7a3-43ac-dc1a-ac6c679411a3"
      },
      "id": "Y5CK3WPkzecT",
      "execution_count": 7,
      "outputs": [
        {
          "output_type": "stream",
          "name": "stdout",
          "text": [
            "Mounted at /content/drive\n"
          ]
        }
      ]
    },
    {
      "cell_type": "code",
      "source": [
        "import shutil\n",
        "\n",
        "shutil.copyfile(r\"/content/drive/MyDrive/School/NYU/Dataset Search/proj/glove.6B.50d.txt\", r\"/content/sherlock-project/sherlock/features/glove.6B.50d.txt\")\n",
        "shutil.copyfile(r\"/content/drive/MyDrive/School/NYU/Dataset Search/proj/par_vec_trained_400.pkl.docvecs.vectors_docs.npy\", r\"/content/sherlock-project/sherlock/features/par_vec_trained_400.pkl.docvecs.vectors_docs.npy\")\n",
        "shutil.copyfile(r\"/content/drive/MyDrive/School/NYU/Dataset Search/proj/par_vec_trained_400.pkl.trainables.syn1neg.npy\", r\"/content/sherlock-project/sherlock/features/par_vec_trained_400.pkl.trainables.syn1neg.npy\")\n",
        "shutil.copyfile(r\"/content/drive/MyDrive/School/NYU/Dataset Search/proj/par_vec_trained_400.pkl.wv.vectors.npy\", r\"/content/sherlock-project/sherlock/features/par_vec_trained_400.pkl.wv.vectors.npy\")\n"
      ],
      "metadata": {
        "colab": {
          "base_uri": "https://localhost:8080/",
          "height": 36
        },
        "id": "75gelQ00z0WH",
        "outputId": "ebba8520-818d-4ca2-b2e7-9d35ac01f95b"
      },
      "id": "75gelQ00z0WH",
      "execution_count": 8,
      "outputs": [
        {
          "output_type": "execute_result",
          "data": {
            "text/plain": [
              "'/content/sherlock-project/sherlock/features/par_vec_trained_400.pkl.wv.vectors.npy'"
            ],
            "application/vnd.google.colaboratory.intrinsic+json": {
              "type": "string"
            }
          },
          "metadata": {},
          "execution_count": 8
        }
      ]
    },
    {
      "cell_type": "markdown",
      "id": "f1101303",
      "metadata": {
        "id": "f1101303"
      },
      "source": [
        "## Initialize feature extraction models"
      ]
    },
    {
      "cell_type": "code",
      "execution_count": 9,
      "id": "e8682ce0",
      "metadata": {
        "id": "e8682ce0",
        "outputId": "37d79ee9-cbe3-4c6a-e5d3-92148abd573a",
        "colab": {
          "base_uri": "https://localhost:8080/"
        }
      },
      "outputs": [
        {
          "output_type": "stream",
          "name": "stdout",
          "text": [
            "Initialising word embeddings\n",
            "Initialise Word Embeddings process took 0:00:09.696109 seconds.\n",
            "Initialise Doc2Vec Model, 400 dim, process took 0:00:04.354690 seconds. (filename = /content/sherlock-project/sherlock/features/par_vec_trained_400.pkl)\n"
          ]
        },
        {
          "output_type": "stream",
          "name": "stderr",
          "text": [
            "[nltk_data] Downloading package punkt to /root/nltk_data...\n",
            "[nltk_data]   Unzipping tokenizers/punkt.zip.\n"
          ]
        },
        {
          "output_type": "stream",
          "name": "stdout",
          "text": [
            "Initialised NLTK, process took 0:00:00.648900 seconds.\n"
          ]
        },
        {
          "output_type": "stream",
          "name": "stderr",
          "text": [
            "[nltk_data] Downloading package stopwords to /root/nltk_data...\n",
            "[nltk_data]   Unzipping corpora/stopwords.zip.\n"
          ]
        }
      ],
      "source": [
        "# prepare_feature_extraction()\n",
        "initialise_word_embeddings(path=r\"/content/drive/MyDrive/School/NYU/Dataset Search/proj/\")\n",
        "initialise_pretrained_model(400, path=r\"/content/sherlock-project/sherlock/features/\")\n",
        "initialise_nltk()"
      ]
    },
    {
      "cell_type": "markdown",
      "id": "2b3b7967",
      "metadata": {
        "id": "2b3b7967"
      },
      "source": [
        "## Extract features"
      ]
    },
    {
      "cell_type": "code",
      "execution_count": 43,
      "id": "db04ccf9",
      "metadata": {
        "id": "db04ccf9"
      },
      "outputs": [],
      "source": [
        "data = pd.Series(\n",
        "    [\n",
        "        [\"Jane Smith\", \"Lute Ahorn\", \"Anna James\"],\n",
        "        [\"Amsterdam\", \"Haarlem\", \"Zwolle\"],\n",
        "        [\"6400 LA VISTA DR\", \"4500 ABRAMS RD\", \"6900 MEADOW LAKE AV\"]\n",
        "    ],\n",
        "    name=\"values\"\n",
        ")"
      ]
    },
    {
      "cell_type": "code",
      "source": [
        "data"
      ],
      "metadata": {
        "colab": {
          "base_uri": "https://localhost:8080/"
        },
        "id": "D9pN0x3bZxA1",
        "outputId": "c18c7959-b3ba-4c25-df50-1c3a1106d939"
      },
      "id": "D9pN0x3bZxA1",
      "execution_count": 44,
      "outputs": [
        {
          "output_type": "execute_result",
          "data": {
            "text/plain": [
              "0                 [Jane Smith, Lute Ahorn, Anna James]\n",
              "1                         [Amsterdam, Haarlem, Zwolle]\n",
              "2    [6400 LA VISTA DR, 4500 ABRAMS RD, 6900 MEADOW...\n",
              "Name: values, dtype: object"
            ]
          },
          "metadata": {},
          "execution_count": 44
        }
      ]
    },
    {
      "cell_type": "code",
      "source": [
        "data = pd.read_csv(r\"/content/drive/MyDrive/School/NYU/Dataset Search/proj/csv/Street_Cuts_Prior_to_2013.csv\")\n",
        "data_m = pd.Series(data[[\"EventID\", \"EventType\", \"FacilityName\", \"CreateTime\", \"FromPointLocation\"]].T.values.tolist())\n",
        "data_m"
      ],
      "metadata": {
        "colab": {
          "base_uri": "https://localhost:8080/"
        },
        "id": "3S3h3YouYgHp",
        "outputId": "1ea5a504-c57e-4d10-b57e-257e2c33a2ee"
      },
      "id": "3S3h3YouYgHp",
      "execution_count": 50,
      "outputs": [
        {
          "output_type": "execute_result",
          "data": {
            "text/plain": [
              "0    [cc001-10/13/2006-006, cc001-10/13/2006-011, c...\n",
              "1    [Construction, Construction, Construction, Con...\n",
              "2    [ LA VISTA DR    ,  ABRAMS RD    ,  MEADOW LAK...\n",
              "3    [10/13/2006 12:00:00 AM, 10/13/2006 12:00:00 A...\n",
              "4    [6400  LA VISTA DR    , 4500  ABRAMS RD    , 6...\n",
              "dtype: object"
            ]
          },
          "metadata": {},
          "execution_count": 50
        }
      ]
    },
    {
      "cell_type": "code",
      "source": [
        "data"
      ],
      "metadata": {
        "colab": {
          "base_uri": "https://localhost:8080/",
          "height": 661
        },
        "id": "REfbVSJWat4X",
        "outputId": "5bd9ab5a-d69b-4b70-8208-5d136e0b0714"
      },
      "id": "REfbVSJWat4X",
      "execution_count": 48,
      "outputs": [
        {
          "output_type": "execute_result",
          "data": {
            "text/plain": [
              "                   EventID     EventType         FacilityName  \\\n",
              "0     cc001-10/13/2006-006  Construction      LA VISTA DR       \n",
              "1     cc001-10/13/2006-011  Construction        ABRAMS RD       \n",
              "2     cc001-10/13/2006-015  Construction   MEADOW LAKE AV       \n",
              "3     cc001-10/13/2006-026  Construction      MERRILEE LA       \n",
              "4     cc001-10/13/2006-035  Construction        WINTON ST       \n",
              "...                    ...           ...                  ...   \n",
              "2027  pwd01-10/04/2013-028  Construction     S CLINTON AV       \n",
              "2028  pwd01-10/04/2013-029  Construction    S WILLOMET AV       \n",
              "2029  pwd01-10/04/2013-030  Construction   MORNINGSIDE AV       \n",
              "2030  pwd01-10/04/2013-031  Construction        DELMAR AV       \n",
              "2031  pwd01-10/04/2013-032  Construction        MARLOW AV       \n",
              "\n",
              "                  CreateTime  LastUpdate  Direction  County  \\\n",
              "0     10/13/2006 12:00:00 AM         NaN        NaN  Dallas   \n",
              "1     10/13/2006 12:00:00 AM         NaN        NaN  Dallas   \n",
              "2     10/13/2006 12:00:00 AM         NaN        NaN  Dallas   \n",
              "3     10/13/2006 12:00:00 AM         NaN        NaN  Dallas   \n",
              "4     10/13/2006 12:00:00 AM         NaN        NaN  Dallas   \n",
              "...                      ...         ...        ...     ...   \n",
              "2027  10/04/2013 12:00:00 AM         NaN        NaN  Dallas   \n",
              "2028  10/04/2013 12:00:00 AM         NaN        NaN  Dallas   \n",
              "2029  10/04/2013 12:00:00 AM         NaN        NaN  Dallas   \n",
              "2030  10/04/2013 12:00:00 AM         NaN        NaN  Dallas   \n",
              "2031  10/04/2013 12:00:00 AM         NaN        NaN  Dallas   \n",
              "\n",
              "             FromPointLocation  ToPointLocation  EstimatedDurationDays  ...  \\\n",
              "0        6400  LA VISTA DR                  NaN                    NaN  ...   \n",
              "1          4500  ABRAMS RD                  NaN                    NaN  ...   \n",
              "2     6900  MEADOW LAKE AV                  NaN                    NaN  ...   \n",
              "3        6900  MERRILEE LA                  NaN                    NaN  ...   \n",
              "4          6500  WINTON ST                  NaN                    NaN  ...   \n",
              "...                        ...              ...                    ...  ...   \n",
              "2027      423 S CLINTON AV                  NaN                    NaN  ...   \n",
              "2028     314 S WILLOMET AV                  NaN                    NaN  ...   \n",
              "2029  5902  MORNINGSIDE AV                  NaN                    NaN  ...   \n",
              "2030       3400  DELMAR AV                  NaN                    NaN  ...   \n",
              "2031       6007  MARLOW AV                  NaN                    NaN  ...   \n",
              "\n",
              "      job_street_prefix job_street_name  job_street_type    City  Latitude  \\\n",
              "0                   NaN        LA VISTA               DR  Dallas       NaN   \n",
              "1                   NaN          ABRAMS               RD  Dallas       NaN   \n",
              "2                   NaN     MEADOW LAKE               AV  Dallas       NaN   \n",
              "3                   NaN        MERRILEE               LA  Dallas       NaN   \n",
              "4                   NaN          WINTON               ST  Dallas       NaN   \n",
              "...                 ...             ...              ...     ...       ...   \n",
              "2027                  S         CLINTON               AV  Dallas       NaN   \n",
              "2028                  S        WILLOMET               AV  Dallas       NaN   \n",
              "2029                NaN     MORNINGSIDE               AV  Dallas       NaN   \n",
              "2030                NaN          DELMAR               AV  Dallas       NaN   \n",
              "2031                NaN          MARLOW               AV  Dallas       NaN   \n",
              "\n",
              "     Longitude  Latitude2  Longitude2   City2             job_address  \n",
              "0          NaN          0           0  Dallas  01/01/6400 12:00:00 AM  \n",
              "1          NaN          0           0  Dallas  01/01/4500 12:00:00 AM  \n",
              "2          NaN          0           0  Dallas  01/01/6900 12:00:00 AM  \n",
              "3          NaN          0           0  Dallas  01/01/6900 12:00:00 AM  \n",
              "4          NaN          0           0  Dallas  01/01/6500 12:00:00 AM  \n",
              "...        ...        ...         ...     ...                     ...  \n",
              "2027       NaN          0           0  Dallas  12/31/0422 12:00:00 AM  \n",
              "2028       NaN          0           0  Dallas  12/31/0313 12:00:00 AM  \n",
              "2029       NaN          0           0  Dallas  01/01/5902 12:00:00 AM  \n",
              "2030       NaN          0           0  Dallas  01/01/3400 12:00:00 AM  \n",
              "2031       NaN          0           0  Dallas  01/01/6007 12:00:00 AM  \n",
              "\n",
              "[2032 rows x 38 columns]"
            ],
            "text/html": [
              "\n",
              "  <div id=\"df-a82c4b6c-5e19-4d32-9103-2f107b681360\">\n",
              "    <div class=\"colab-df-container\">\n",
              "      <div>\n",
              "<style scoped>\n",
              "    .dataframe tbody tr th:only-of-type {\n",
              "        vertical-align: middle;\n",
              "    }\n",
              "\n",
              "    .dataframe tbody tr th {\n",
              "        vertical-align: top;\n",
              "    }\n",
              "\n",
              "    .dataframe thead th {\n",
              "        text-align: right;\n",
              "    }\n",
              "</style>\n",
              "<table border=\"1\" class=\"dataframe\">\n",
              "  <thead>\n",
              "    <tr style=\"text-align: right;\">\n",
              "      <th></th>\n",
              "      <th>EventID</th>\n",
              "      <th>EventType</th>\n",
              "      <th>FacilityName</th>\n",
              "      <th>CreateTime</th>\n",
              "      <th>LastUpdate</th>\n",
              "      <th>Direction</th>\n",
              "      <th>County</th>\n",
              "      <th>FromPointLocation</th>\n",
              "      <th>ToPointLocation</th>\n",
              "      <th>EstimatedDurationDays</th>\n",
              "      <th>...</th>\n",
              "      <th>job_street_prefix</th>\n",
              "      <th>job_street_name</th>\n",
              "      <th>job_street_type</th>\n",
              "      <th>City</th>\n",
              "      <th>Latitude</th>\n",
              "      <th>Longitude</th>\n",
              "      <th>Latitude2</th>\n",
              "      <th>Longitude2</th>\n",
              "      <th>City2</th>\n",
              "      <th>job_address</th>\n",
              "    </tr>\n",
              "  </thead>\n",
              "  <tbody>\n",
              "    <tr>\n",
              "      <th>0</th>\n",
              "      <td>cc001-10/13/2006-006</td>\n",
              "      <td>Construction</td>\n",
              "      <td>LA VISTA DR</td>\n",
              "      <td>10/13/2006 12:00:00 AM</td>\n",
              "      <td>NaN</td>\n",
              "      <td>NaN</td>\n",
              "      <td>Dallas</td>\n",
              "      <td>6400  LA VISTA DR</td>\n",
              "      <td>NaN</td>\n",
              "      <td>NaN</td>\n",
              "      <td>...</td>\n",
              "      <td>NaN</td>\n",
              "      <td>LA VISTA</td>\n",
              "      <td>DR</td>\n",
              "      <td>Dallas</td>\n",
              "      <td>NaN</td>\n",
              "      <td>NaN</td>\n",
              "      <td>0</td>\n",
              "      <td>0</td>\n",
              "      <td>Dallas</td>\n",
              "      <td>01/01/6400 12:00:00 AM</td>\n",
              "    </tr>\n",
              "    <tr>\n",
              "      <th>1</th>\n",
              "      <td>cc001-10/13/2006-011</td>\n",
              "      <td>Construction</td>\n",
              "      <td>ABRAMS RD</td>\n",
              "      <td>10/13/2006 12:00:00 AM</td>\n",
              "      <td>NaN</td>\n",
              "      <td>NaN</td>\n",
              "      <td>Dallas</td>\n",
              "      <td>4500  ABRAMS RD</td>\n",
              "      <td>NaN</td>\n",
              "      <td>NaN</td>\n",
              "      <td>...</td>\n",
              "      <td>NaN</td>\n",
              "      <td>ABRAMS</td>\n",
              "      <td>RD</td>\n",
              "      <td>Dallas</td>\n",
              "      <td>NaN</td>\n",
              "      <td>NaN</td>\n",
              "      <td>0</td>\n",
              "      <td>0</td>\n",
              "      <td>Dallas</td>\n",
              "      <td>01/01/4500 12:00:00 AM</td>\n",
              "    </tr>\n",
              "    <tr>\n",
              "      <th>2</th>\n",
              "      <td>cc001-10/13/2006-015</td>\n",
              "      <td>Construction</td>\n",
              "      <td>MEADOW LAKE AV</td>\n",
              "      <td>10/13/2006 12:00:00 AM</td>\n",
              "      <td>NaN</td>\n",
              "      <td>NaN</td>\n",
              "      <td>Dallas</td>\n",
              "      <td>6900  MEADOW LAKE AV</td>\n",
              "      <td>NaN</td>\n",
              "      <td>NaN</td>\n",
              "      <td>...</td>\n",
              "      <td>NaN</td>\n",
              "      <td>MEADOW LAKE</td>\n",
              "      <td>AV</td>\n",
              "      <td>Dallas</td>\n",
              "      <td>NaN</td>\n",
              "      <td>NaN</td>\n",
              "      <td>0</td>\n",
              "      <td>0</td>\n",
              "      <td>Dallas</td>\n",
              "      <td>01/01/6900 12:00:00 AM</td>\n",
              "    </tr>\n",
              "    <tr>\n",
              "      <th>3</th>\n",
              "      <td>cc001-10/13/2006-026</td>\n",
              "      <td>Construction</td>\n",
              "      <td>MERRILEE LA</td>\n",
              "      <td>10/13/2006 12:00:00 AM</td>\n",
              "      <td>NaN</td>\n",
              "      <td>NaN</td>\n",
              "      <td>Dallas</td>\n",
              "      <td>6900  MERRILEE LA</td>\n",
              "      <td>NaN</td>\n",
              "      <td>NaN</td>\n",
              "      <td>...</td>\n",
              "      <td>NaN</td>\n",
              "      <td>MERRILEE</td>\n",
              "      <td>LA</td>\n",
              "      <td>Dallas</td>\n",
              "      <td>NaN</td>\n",
              "      <td>NaN</td>\n",
              "      <td>0</td>\n",
              "      <td>0</td>\n",
              "      <td>Dallas</td>\n",
              "      <td>01/01/6900 12:00:00 AM</td>\n",
              "    </tr>\n",
              "    <tr>\n",
              "      <th>4</th>\n",
              "      <td>cc001-10/13/2006-035</td>\n",
              "      <td>Construction</td>\n",
              "      <td>WINTON ST</td>\n",
              "      <td>10/13/2006 12:00:00 AM</td>\n",
              "      <td>NaN</td>\n",
              "      <td>NaN</td>\n",
              "      <td>Dallas</td>\n",
              "      <td>6500  WINTON ST</td>\n",
              "      <td>NaN</td>\n",
              "      <td>NaN</td>\n",
              "      <td>...</td>\n",
              "      <td>NaN</td>\n",
              "      <td>WINTON</td>\n",
              "      <td>ST</td>\n",
              "      <td>Dallas</td>\n",
              "      <td>NaN</td>\n",
              "      <td>NaN</td>\n",
              "      <td>0</td>\n",
              "      <td>0</td>\n",
              "      <td>Dallas</td>\n",
              "      <td>01/01/6500 12:00:00 AM</td>\n",
              "    </tr>\n",
              "    <tr>\n",
              "      <th>...</th>\n",
              "      <td>...</td>\n",
              "      <td>...</td>\n",
              "      <td>...</td>\n",
              "      <td>...</td>\n",
              "      <td>...</td>\n",
              "      <td>...</td>\n",
              "      <td>...</td>\n",
              "      <td>...</td>\n",
              "      <td>...</td>\n",
              "      <td>...</td>\n",
              "      <td>...</td>\n",
              "      <td>...</td>\n",
              "      <td>...</td>\n",
              "      <td>...</td>\n",
              "      <td>...</td>\n",
              "      <td>...</td>\n",
              "      <td>...</td>\n",
              "      <td>...</td>\n",
              "      <td>...</td>\n",
              "      <td>...</td>\n",
              "      <td>...</td>\n",
              "    </tr>\n",
              "    <tr>\n",
              "      <th>2027</th>\n",
              "      <td>pwd01-10/04/2013-028</td>\n",
              "      <td>Construction</td>\n",
              "      <td>S CLINTON AV</td>\n",
              "      <td>10/04/2013 12:00:00 AM</td>\n",
              "      <td>NaN</td>\n",
              "      <td>NaN</td>\n",
              "      <td>Dallas</td>\n",
              "      <td>423 S CLINTON AV</td>\n",
              "      <td>NaN</td>\n",
              "      <td>NaN</td>\n",
              "      <td>...</td>\n",
              "      <td>S</td>\n",
              "      <td>CLINTON</td>\n",
              "      <td>AV</td>\n",
              "      <td>Dallas</td>\n",
              "      <td>NaN</td>\n",
              "      <td>NaN</td>\n",
              "      <td>0</td>\n",
              "      <td>0</td>\n",
              "      <td>Dallas</td>\n",
              "      <td>12/31/0422 12:00:00 AM</td>\n",
              "    </tr>\n",
              "    <tr>\n",
              "      <th>2028</th>\n",
              "      <td>pwd01-10/04/2013-029</td>\n",
              "      <td>Construction</td>\n",
              "      <td>S WILLOMET AV</td>\n",
              "      <td>10/04/2013 12:00:00 AM</td>\n",
              "      <td>NaN</td>\n",
              "      <td>NaN</td>\n",
              "      <td>Dallas</td>\n",
              "      <td>314 S WILLOMET AV</td>\n",
              "      <td>NaN</td>\n",
              "      <td>NaN</td>\n",
              "      <td>...</td>\n",
              "      <td>S</td>\n",
              "      <td>WILLOMET</td>\n",
              "      <td>AV</td>\n",
              "      <td>Dallas</td>\n",
              "      <td>NaN</td>\n",
              "      <td>NaN</td>\n",
              "      <td>0</td>\n",
              "      <td>0</td>\n",
              "      <td>Dallas</td>\n",
              "      <td>12/31/0313 12:00:00 AM</td>\n",
              "    </tr>\n",
              "    <tr>\n",
              "      <th>2029</th>\n",
              "      <td>pwd01-10/04/2013-030</td>\n",
              "      <td>Construction</td>\n",
              "      <td>MORNINGSIDE AV</td>\n",
              "      <td>10/04/2013 12:00:00 AM</td>\n",
              "      <td>NaN</td>\n",
              "      <td>NaN</td>\n",
              "      <td>Dallas</td>\n",
              "      <td>5902  MORNINGSIDE AV</td>\n",
              "      <td>NaN</td>\n",
              "      <td>NaN</td>\n",
              "      <td>...</td>\n",
              "      <td>NaN</td>\n",
              "      <td>MORNINGSIDE</td>\n",
              "      <td>AV</td>\n",
              "      <td>Dallas</td>\n",
              "      <td>NaN</td>\n",
              "      <td>NaN</td>\n",
              "      <td>0</td>\n",
              "      <td>0</td>\n",
              "      <td>Dallas</td>\n",
              "      <td>01/01/5902 12:00:00 AM</td>\n",
              "    </tr>\n",
              "    <tr>\n",
              "      <th>2030</th>\n",
              "      <td>pwd01-10/04/2013-031</td>\n",
              "      <td>Construction</td>\n",
              "      <td>DELMAR AV</td>\n",
              "      <td>10/04/2013 12:00:00 AM</td>\n",
              "      <td>NaN</td>\n",
              "      <td>NaN</td>\n",
              "      <td>Dallas</td>\n",
              "      <td>3400  DELMAR AV</td>\n",
              "      <td>NaN</td>\n",
              "      <td>NaN</td>\n",
              "      <td>...</td>\n",
              "      <td>NaN</td>\n",
              "      <td>DELMAR</td>\n",
              "      <td>AV</td>\n",
              "      <td>Dallas</td>\n",
              "      <td>NaN</td>\n",
              "      <td>NaN</td>\n",
              "      <td>0</td>\n",
              "      <td>0</td>\n",
              "      <td>Dallas</td>\n",
              "      <td>01/01/3400 12:00:00 AM</td>\n",
              "    </tr>\n",
              "    <tr>\n",
              "      <th>2031</th>\n",
              "      <td>pwd01-10/04/2013-032</td>\n",
              "      <td>Construction</td>\n",
              "      <td>MARLOW AV</td>\n",
              "      <td>10/04/2013 12:00:00 AM</td>\n",
              "      <td>NaN</td>\n",
              "      <td>NaN</td>\n",
              "      <td>Dallas</td>\n",
              "      <td>6007  MARLOW AV</td>\n",
              "      <td>NaN</td>\n",
              "      <td>NaN</td>\n",
              "      <td>...</td>\n",
              "      <td>NaN</td>\n",
              "      <td>MARLOW</td>\n",
              "      <td>AV</td>\n",
              "      <td>Dallas</td>\n",
              "      <td>NaN</td>\n",
              "      <td>NaN</td>\n",
              "      <td>0</td>\n",
              "      <td>0</td>\n",
              "      <td>Dallas</td>\n",
              "      <td>01/01/6007 12:00:00 AM</td>\n",
              "    </tr>\n",
              "  </tbody>\n",
              "</table>\n",
              "<p>2032 rows × 38 columns</p>\n",
              "</div>\n",
              "      <button class=\"colab-df-convert\" onclick=\"convertToInteractive('df-a82c4b6c-5e19-4d32-9103-2f107b681360')\"\n",
              "              title=\"Convert this dataframe to an interactive table.\"\n",
              "              style=\"display:none;\">\n",
              "        \n",
              "  <svg xmlns=\"http://www.w3.org/2000/svg\" height=\"24px\"viewBox=\"0 0 24 24\"\n",
              "       width=\"24px\">\n",
              "    <path d=\"M0 0h24v24H0V0z\" fill=\"none\"/>\n",
              "    <path d=\"M18.56 5.44l.94 2.06.94-2.06 2.06-.94-2.06-.94-.94-2.06-.94 2.06-2.06.94zm-11 1L8.5 8.5l.94-2.06 2.06-.94-2.06-.94L8.5 2.5l-.94 2.06-2.06.94zm10 10l.94 2.06.94-2.06 2.06-.94-2.06-.94-.94-2.06-.94 2.06-2.06.94z\"/><path d=\"M17.41 7.96l-1.37-1.37c-.4-.4-.92-.59-1.43-.59-.52 0-1.04.2-1.43.59L10.3 9.45l-7.72 7.72c-.78.78-.78 2.05 0 2.83L4 21.41c.39.39.9.59 1.41.59.51 0 1.02-.2 1.41-.59l7.78-7.78 2.81-2.81c.8-.78.8-2.07 0-2.86zM5.41 20L4 18.59l7.72-7.72 1.47 1.35L5.41 20z\"/>\n",
              "  </svg>\n",
              "      </button>\n",
              "      \n",
              "  <style>\n",
              "    .colab-df-container {\n",
              "      display:flex;\n",
              "      flex-wrap:wrap;\n",
              "      gap: 12px;\n",
              "    }\n",
              "\n",
              "    .colab-df-convert {\n",
              "      background-color: #E8F0FE;\n",
              "      border: none;\n",
              "      border-radius: 50%;\n",
              "      cursor: pointer;\n",
              "      display: none;\n",
              "      fill: #1967D2;\n",
              "      height: 32px;\n",
              "      padding: 0 0 0 0;\n",
              "      width: 32px;\n",
              "    }\n",
              "\n",
              "    .colab-df-convert:hover {\n",
              "      background-color: #E2EBFA;\n",
              "      box-shadow: 0px 1px 2px rgba(60, 64, 67, 0.3), 0px 1px 3px 1px rgba(60, 64, 67, 0.15);\n",
              "      fill: #174EA6;\n",
              "    }\n",
              "\n",
              "    [theme=dark] .colab-df-convert {\n",
              "      background-color: #3B4455;\n",
              "      fill: #D2E3FC;\n",
              "    }\n",
              "\n",
              "    [theme=dark] .colab-df-convert:hover {\n",
              "      background-color: #434B5C;\n",
              "      box-shadow: 0px 1px 3px 1px rgba(0, 0, 0, 0.15);\n",
              "      filter: drop-shadow(0px 1px 2px rgba(0, 0, 0, 0.3));\n",
              "      fill: #FFFFFF;\n",
              "    }\n",
              "  </style>\n",
              "\n",
              "      <script>\n",
              "        const buttonEl =\n",
              "          document.querySelector('#df-a82c4b6c-5e19-4d32-9103-2f107b681360 button.colab-df-convert');\n",
              "        buttonEl.style.display =\n",
              "          google.colab.kernel.accessAllowed ? 'block' : 'none';\n",
              "\n",
              "        async function convertToInteractive(key) {\n",
              "          const element = document.querySelector('#df-a82c4b6c-5e19-4d32-9103-2f107b681360');\n",
              "          const dataTable =\n",
              "            await google.colab.kernel.invokeFunction('convertToInteractive',\n",
              "                                                     [key], {});\n",
              "          if (!dataTable) return;\n",
              "\n",
              "          const docLinkHtml = 'Like what you see? Visit the ' +\n",
              "            '<a target=\"_blank\" href=https://colab.research.google.com/notebooks/data_table.ipynb>data table notebook</a>'\n",
              "            + ' to learn more about interactive tables.';\n",
              "          element.innerHTML = '';\n",
              "          dataTable['output_type'] = 'display_data';\n",
              "          await google.colab.output.renderOutput(dataTable, element);\n",
              "          const docLink = document.createElement('div');\n",
              "          docLink.innerHTML = docLinkHtml;\n",
              "          element.appendChild(docLink);\n",
              "        }\n",
              "      </script>\n",
              "    </div>\n",
              "  </div>\n",
              "  "
            ]
          },
          "metadata": {},
          "execution_count": 48
        }
      ]
    },
    {
      "cell_type": "code",
      "execution_count": 54,
      "id": "f7f2c846",
      "metadata": {
        "id": "f7f2c846",
        "outputId": "5956a337-5984-4dbd-d5a9-6f0e654a8da1",
        "colab": {
          "base_uri": "https://localhost:8080/"
        }
      },
      "outputs": [
        {
          "output_type": "stream",
          "name": "stderr",
          "text": [
            "Extracting Features:  20%|██        | 1/5 [00:00<00:00,  5.64it/s]"
          ]
        },
        {
          "output_type": "stream",
          "name": "stdout",
          "text": [
            "Exporting 1588 column features\n"
          ]
        },
        {
          "output_type": "stream",
          "name": "stderr",
          "text": [
            "Extracting Features: 100%|██████████| 5/5 [00:01<00:00,  2.70it/s]\n"
          ]
        }
      ],
      "source": [
        "extract_features(\n",
        "    \"../temporary.csv\",\n",
        "    data_m\n",
        ")\n",
        "feature_vectors = pd.read_csv(\"../temporary.csv\", dtype=np.float32)"
      ]
    },
    {
      "cell_type": "code",
      "execution_count": 13,
      "id": "0c42ce71",
      "metadata": {
        "id": "0c42ce71"
      },
      "outputs": [],
      "source": [
        "#feature_vectors"
      ]
    },
    {
      "cell_type": "markdown",
      "id": "9027fa4a",
      "metadata": {
        "id": "9027fa4a"
      },
      "source": [
        "## Initialize Sherlock"
      ]
    },
    {
      "cell_type": "code",
      "execution_count": 23,
      "id": "b9ec13ec",
      "metadata": {
        "id": "b9ec13ec",
        "colab": {
          "base_uri": "https://localhost:8080/"
        },
        "outputId": "1277fcdd-1c5e-4460-fbd7-8050850b8bae"
      },
      "outputs": [
        {
          "output_type": "stream",
          "name": "stderr",
          "text": [
            "WARNING:absl:`lr` is deprecated, please use `learning_rate` instead, or use the legacy optimizer, e.g.,tf.keras.optimizers.legacy.Adam.\n"
          ]
        }
      ],
      "source": [
        "model = SherlockModel(path=\"/content/sherlock-project/\");\n",
        "model.initialize_model_from_json(with_weights=True, model_id=\"sherlock\");"
      ]
    },
    {
      "cell_type": "markdown",
      "id": "8a1ab955",
      "metadata": {
        "id": "8a1ab955"
      },
      "source": [
        "## Predict semantic type for column"
      ]
    },
    {
      "cell_type": "code",
      "execution_count": 55,
      "id": "fc079fa9",
      "metadata": {
        "id": "fc079fa9",
        "colab": {
          "base_uri": "https://localhost:8080/"
        },
        "outputId": "84df09e2-c5c8-49aa-9500-a8adebb3a897"
      },
      "outputs": [
        {
          "output_type": "stream",
          "name": "stdout",
          "text": [
            "1/1 [==============================] - 0s 57ms/step\n"
          ]
        }
      ],
      "source": [
        "predicted_labels = model.predict(feature_vectors, \"sherlock\")"
      ]
    },
    {
      "cell_type": "code",
      "execution_count": 58,
      "id": "0feb9584",
      "metadata": {
        "id": "0feb9584",
        "outputId": "d5e44710-3980-4b1a-dcf0-b4a2762ad9c6",
        "colab": {
          "base_uri": "https://localhost:8080/"
        }
      },
      "outputs": [
        {
          "output_type": "stream",
          "name": "stdout",
          "text": [
            "\n",
            " Sherlock predicted types are: \n",
            "\n",
            "['address', 'type', 'address', 'sex', 'address']\n",
            "\n",
            "\n"
          ]
        },
        {
          "output_type": "execute_result",
          "data": {
            "text/plain": [
              "0    [cc001-10/13/2006-006, cc001-10/13/2006-011, c...\n",
              "1    [Construction, Construction, Construction, Con...\n",
              "2    [ LA VISTA DR    ,  ABRAMS RD    ,  MEADOW LAK...\n",
              "3    [10/13/2006 12:00:00 AM, 10/13/2006 12:00:00 A...\n",
              "4    [6400  LA VISTA DR    , 4500  ABRAMS RD    , 6...\n",
              "dtype: object"
            ]
          },
          "metadata": {},
          "execution_count": 58
        }
      ],
      "source": [
        "# print(\"CSV fields are: \\n\")\n",
        "# print(str(list(data.columns)))\n",
        "print(\"\\n Sherlock predicted types are: \\n\")\n",
        "print(str(list(predicted_labels)))\n",
        "print(\"\\n\")\n",
        "data_m"
      ]
    },
    {
      "cell_type": "code",
      "execution_count": 16,
      "id": "e4efc9a2",
      "metadata": {
        "id": "e4efc9a2"
      },
      "outputs": [],
      "source": []
    }
  ],
  "metadata": {
    "kernelspec": {
      "display_name": "Python 3",
      "language": "python",
      "name": "python3"
    },
    "language_info": {
      "codemirror_mode": {
        "name": "ipython",
        "version": 3
      },
      "file_extension": ".py",
      "mimetype": "text/x-python",
      "name": "python",
      "nbconvert_exporter": "python",
      "pygments_lexer": "ipython3",
      "version": "3.6.12"
    },
    "colab": {
      "provenance": []
    },
    "gpuClass": "standard"
  },
  "nbformat": 4,
  "nbformat_minor": 5
}